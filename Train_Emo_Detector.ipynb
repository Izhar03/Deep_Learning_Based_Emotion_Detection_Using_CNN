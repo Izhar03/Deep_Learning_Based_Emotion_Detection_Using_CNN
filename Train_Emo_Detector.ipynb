{
 "cells": [
  {
   "cell_type": "code",
   "execution_count": 1,
   "metadata": {},
   "outputs": [],
   "source": [
    "# import required packages\n",
    "import cv2\n",
    "from keras.models import Sequential\n",
    "from keras.layers import Conv2D, MaxPooling2D, Dense, Dropout, Flatten\n",
    "from keras.optimizers import Adam\n",
    "from keras.preprocessing.image import ImageDataGenerator"
   ]
  },
  {
   "cell_type": "code",
   "execution_count": 2,
   "metadata": {},
   "outputs": [],
   "source": [
    "# Initialize image data generator with rescaling\n",
    "train_data_gen = ImageDataGenerator(rescale=1./255)\n",
    "validation_data_gen = ImageDataGenerator(rescale=1./255)"
   ]
  },
  {
   "cell_type": "code",
   "execution_count": 3,
   "metadata": {},
   "outputs": [
    {
     "name": "stdout",
     "output_type": "stream",
     "text": [
      "Found 28711 images belonging to 7 classes.\n"
     ]
    }
   ],
   "source": [
    "# Preprocess all test images\n",
    "train_generator = train_data_gen.flow_from_directory(\n",
    "        'data/train',\n",
    "        target_size=(48, 48),\n",
    "        batch_size=64,\n",
    "        color_mode=\"grayscale\",\n",
    "        class_mode='categorical')"
   ]
  },
  {
   "cell_type": "code",
   "execution_count": 4,
   "metadata": {},
   "outputs": [
    {
     "name": "stdout",
     "output_type": "stream",
     "text": [
      "Found 7178 images belonging to 7 classes.\n"
     ]
    }
   ],
   "source": [
    "# Preprocess all train images\n",
    "validation_generator = validation_data_gen.flow_from_directory(\n",
    "        'data/test',\n",
    "        target_size=(48, 48),\n",
    "        batch_size=64,\n",
    "        color_mode=\"grayscale\",\n",
    "        class_mode='categorical')"
   ]
  },
  {
   "cell_type": "code",
   "execution_count": 6,
   "metadata": {},
   "outputs": [],
   "source": [
    "# create model structure\n",
    "emotion_model = Sequential()\n",
    "\n",
    "emotion_model.add(Conv2D(32, kernel_size=(3, 3), activation='relu', input_shape=(48, 48, 1)))\n",
    "emotion_model.add(Conv2D(64, kernel_size=(3, 3), activation='relu'))\n",
    "emotion_model.add(MaxPooling2D(pool_size=(2, 2)))\n",
    "emotion_model.add(Dropout(0.25))\n",
    "\n",
    "emotion_model.add(Conv2D(128, kernel_size=(3, 3), activation='relu'))\n",
    "emotion_model.add(MaxPooling2D(pool_size=(2, 2)))\n",
    "emotion_model.add(Conv2D(128, kernel_size=(3, 3), activation='relu'))\n",
    "emotion_model.add(MaxPooling2D(pool_size=(2, 2)))\n",
    "emotion_model.add(Dropout(0.25))\n",
    "\n",
    "emotion_model.add(Flatten())\n",
    "emotion_model.add(Dense(1024, activation='relu'))\n",
    "emotion_model.add(Dropout(0.5))\n",
    "emotion_model.add(Dense(7, activation='softmax'))\n",
    "\n",
    "cv2.ocl.setUseOpenCL(False)"
   ]
  },
  {
   "cell_type": "code",
   "execution_count": 7,
   "metadata": {},
   "outputs": [],
   "source": [
    "emotion_model.compile(loss='categorical_crossentropy', optimizer=Adam(learning_rate=0.0001), metrics=['accuracy'])"
   ]
  },
  {
   "cell_type": "code",
   "execution_count": 8,
   "metadata": {},
   "outputs": [
    {
     "name": "stdout",
     "output_type": "stream",
     "text": [
      "Epoch 1/50\n"
     ]
    },
    {
     "name": "stderr",
     "output_type": "stream",
     "text": [
      "C:\\Users\\izhar\\AppData\\Local\\Temp\\ipykernel_13524\\3198193097.py:2: UserWarning: `Model.fit_generator` is deprecated and will be removed in a future version. Please use `Model.fit`, which supports generators.\n",
      "  emotion_model_info = emotion_model.fit_generator(\n"
     ]
    },
    {
     "name": "stdout",
     "output_type": "stream",
     "text": [
      "448/448 [==============================] - 208s 460ms/step - loss: 1.8008 - accuracy: 0.2610 - val_loss: 1.7139 - val_accuracy: 0.3511\n",
      "Epoch 2/50\n",
      "448/448 [==============================] - 183s 408ms/step - loss: 1.6190 - accuracy: 0.3703 - val_loss: 1.5409 - val_accuracy: 0.4184\n",
      "Epoch 3/50\n",
      "448/448 [==============================] - 192s 428ms/step - loss: 1.5264 - accuracy: 0.4123 - val_loss: 1.4626 - val_accuracy: 0.4413\n",
      "Epoch 4/50\n",
      "448/448 [==============================] - 969s 2s/step - loss: 1.4605 - accuracy: 0.4428 - val_loss: 1.4104 - val_accuracy: 0.4623\n",
      "Epoch 5/50\n",
      "448/448 [==============================] - 181s 403ms/step - loss: 1.3995 - accuracy: 0.4646 - val_loss: 1.3560 - val_accuracy: 0.4823\n",
      "Epoch 6/50\n",
      "448/448 [==============================] - 258s 576ms/step - loss: 1.3521 - accuracy: 0.4857 - val_loss: 1.3227 - val_accuracy: 0.4961\n",
      "Epoch 7/50\n",
      "448/448 [==============================] - 276s 616ms/step - loss: 1.3008 - accuracy: 0.5063 - val_loss: 1.2798 - val_accuracy: 0.5141\n",
      "Epoch 8/50\n",
      "448/448 [==============================] - 1561s 3s/step - loss: 1.2628 - accuracy: 0.5230 - val_loss: 1.2480 - val_accuracy: 0.5255\n",
      "Epoch 9/50\n",
      "448/448 [==============================] - 198s 441ms/step - loss: 1.2232 - accuracy: 0.5393 - val_loss: 1.2208 - val_accuracy: 0.5350\n",
      "Epoch 10/50\n",
      "448/448 [==============================] - 180s 401ms/step - loss: 1.1947 - accuracy: 0.5527 - val_loss: 1.1895 - val_accuracy: 0.5504\n",
      "Epoch 11/50\n",
      "448/448 [==============================] - 183s 408ms/step - loss: 1.1586 - accuracy: 0.5664 - val_loss: 1.1995 - val_accuracy: 0.5388\n",
      "Epoch 12/50\n",
      "448/448 [==============================] - 211s 470ms/step - loss: 1.1299 - accuracy: 0.5780 - val_loss: 1.1719 - val_accuracy: 0.5604\n",
      "Epoch 13/50\n",
      "448/448 [==============================] - 308s 687ms/step - loss: 1.1038 - accuracy: 0.5896 - val_loss: 1.1513 - val_accuracy: 0.5645\n",
      "Epoch 14/50\n",
      "448/448 [==============================] - 319s 713ms/step - loss: 1.0742 - accuracy: 0.5980 - val_loss: 1.1318 - val_accuracy: 0.5751\n",
      "Epoch 15/50\n",
      "448/448 [==============================] - 340s 758ms/step - loss: 1.0507 - accuracy: 0.6090 - val_loss: 1.1250 - val_accuracy: 0.5776\n",
      "Epoch 16/50\n",
      "448/448 [==============================] - 190s 424ms/step - loss: 1.0247 - accuracy: 0.6212 - val_loss: 1.1101 - val_accuracy: 0.5851\n",
      "Epoch 17/50\n",
      "448/448 [==============================] - 187s 416ms/step - loss: 1.0021 - accuracy: 0.6277 - val_loss: 1.1058 - val_accuracy: 0.5858\n",
      "Epoch 18/50\n",
      "448/448 [==============================] - 1447s 3s/step - loss: 0.9790 - accuracy: 0.6387 - val_loss: 1.0992 - val_accuracy: 0.5905\n",
      "Epoch 19/50\n",
      "448/448 [==============================] - 649s 1s/step - loss: 0.9540 - accuracy: 0.6455 - val_loss: 1.0936 - val_accuracy: 0.5953\n",
      "Epoch 20/50\n",
      "448/448 [==============================] - 210s 469ms/step - loss: 0.9300 - accuracy: 0.6559 - val_loss: 1.0918 - val_accuracy: 0.5982\n",
      "Epoch 21/50\n",
      "448/448 [==============================] - 215s 479ms/step - loss: 0.9004 - accuracy: 0.6689 - val_loss: 1.0844 - val_accuracy: 0.5979\n",
      "Epoch 22/50\n",
      "448/448 [==============================] - 1155s 3s/step - loss: 0.8807 - accuracy: 0.6755 - val_loss: 1.0897 - val_accuracy: 0.5974\n",
      "Epoch 23/50\n",
      "448/448 [==============================] - 410s 916ms/step - loss: 0.8547 - accuracy: 0.6861 - val_loss: 1.0848 - val_accuracy: 0.6028\n",
      "Epoch 24/50\n",
      "448/448 [==============================] - 224s 499ms/step - loss: 0.8308 - accuracy: 0.6951 - val_loss: 1.0866 - val_accuracy: 0.6108\n",
      "Epoch 25/50\n",
      "448/448 [==============================] - 540s 1s/step - loss: 0.8063 - accuracy: 0.7059 - val_loss: 1.0780 - val_accuracy: 0.6074\n",
      "Epoch 26/50\n",
      "448/448 [==============================] - 585s 1s/step - loss: 0.7824 - accuracy: 0.7139 - val_loss: 1.0845 - val_accuracy: 0.6124\n",
      "Epoch 27/50\n",
      "448/448 [==============================] - 209s 466ms/step - loss: 0.7568 - accuracy: 0.7217 - val_loss: 1.0920 - val_accuracy: 0.6119\n",
      "Epoch 28/50\n",
      "448/448 [==============================] - 984s 2s/step - loss: 0.7398 - accuracy: 0.7292 - val_loss: 1.0764 - val_accuracy: 0.6162\n",
      "Epoch 29/50\n",
      "448/448 [==============================] - 266s 594ms/step - loss: 0.7096 - accuracy: 0.7418 - val_loss: 1.0813 - val_accuracy: 0.6151\n",
      "Epoch 30/50\n",
      "448/448 [==============================] - 274s 610ms/step - loss: 0.6904 - accuracy: 0.7482 - val_loss: 1.0969 - val_accuracy: 0.6133\n",
      "Epoch 31/50\n",
      "448/448 [==============================] - 271s 605ms/step - loss: 0.6679 - accuracy: 0.7582 - val_loss: 1.0929 - val_accuracy: 0.6165\n",
      "Epoch 32/50\n",
      "448/448 [==============================] - 256s 571ms/step - loss: 0.6414 - accuracy: 0.7663 - val_loss: 1.1003 - val_accuracy: 0.6170\n",
      "Epoch 33/50\n",
      "448/448 [==============================] - 244s 544ms/step - loss: 0.6252 - accuracy: 0.7738 - val_loss: 1.1033 - val_accuracy: 0.6180\n",
      "Epoch 34/50\n",
      "448/448 [==============================] - 246s 549ms/step - loss: 0.6012 - accuracy: 0.7829 - val_loss: 1.1013 - val_accuracy: 0.6159\n",
      "Epoch 35/50\n",
      "448/448 [==============================] - 229s 511ms/step - loss: 0.5807 - accuracy: 0.7864 - val_loss: 1.1261 - val_accuracy: 0.6150\n",
      "Epoch 36/50\n",
      "448/448 [==============================] - 214s 477ms/step - loss: 0.5599 - accuracy: 0.7952 - val_loss: 1.1224 - val_accuracy: 0.6218\n",
      "Epoch 37/50\n",
      "448/448 [==============================] - 237s 530ms/step - loss: 0.5408 - accuracy: 0.8068 - val_loss: 1.1326 - val_accuracy: 0.6214\n",
      "Epoch 38/50\n",
      "448/448 [==============================] - 228s 508ms/step - loss: 0.5273 - accuracy: 0.8084 - val_loss: 1.1353 - val_accuracy: 0.6218\n",
      "Epoch 39/50\n",
      "448/448 [==============================] - 219s 488ms/step - loss: 0.5007 - accuracy: 0.8184 - val_loss: 1.1582 - val_accuracy: 0.6159\n",
      "Epoch 40/50\n",
      "448/448 [==============================] - 243s 543ms/step - loss: 0.4953 - accuracy: 0.8216 - val_loss: 1.1577 - val_accuracy: 0.6190\n",
      "Epoch 41/50\n",
      "448/448 [==============================] - 223s 497ms/step - loss: 0.4698 - accuracy: 0.8290 - val_loss: 1.1599 - val_accuracy: 0.6249\n",
      "Epoch 42/50\n",
      "448/448 [==============================] - 197s 439ms/step - loss: 0.4603 - accuracy: 0.8343 - val_loss: 1.1607 - val_accuracy: 0.6210\n",
      "Epoch 43/50\n",
      "448/448 [==============================] - 233s 521ms/step - loss: 0.4441 - accuracy: 0.8400 - val_loss: 1.1469 - val_accuracy: 0.6168\n",
      "Epoch 44/50\n",
      "448/448 [==============================] - 184s 410ms/step - loss: 0.4283 - accuracy: 0.8464 - val_loss: 1.1818 - val_accuracy: 0.6219\n",
      "Epoch 45/50\n",
      "448/448 [==============================] - 193s 430ms/step - loss: 0.4130 - accuracy: 0.8520 - val_loss: 1.1741 - val_accuracy: 0.6204\n",
      "Epoch 46/50\n",
      "448/448 [==============================] - 198s 443ms/step - loss: 0.3990 - accuracy: 0.8591 - val_loss: 1.1981 - val_accuracy: 0.6243\n",
      "Epoch 47/50\n",
      "448/448 [==============================] - 212s 473ms/step - loss: 0.3877 - accuracy: 0.8589 - val_loss: 1.1951 - val_accuracy: 0.6222\n",
      "Epoch 48/50\n",
      "448/448 [==============================] - 192s 428ms/step - loss: 0.3804 - accuracy: 0.8628 - val_loss: 1.2105 - val_accuracy: 0.6157\n",
      "Epoch 49/50\n",
      "448/448 [==============================] - 192s 428ms/step - loss: 0.3616 - accuracy: 0.8702 - val_loss: 1.2067 - val_accuracy: 0.6212\n",
      "Epoch 50/50\n",
      "448/448 [==============================] - 198s 442ms/step - loss: 0.3470 - accuracy: 0.8759 - val_loss: 1.2467 - val_accuracy: 0.6218\n"
     ]
    }
   ],
   "source": [
    "# Train the neural network/model\n",
    "emotion_model_info = emotion_model.fit_generator(\n",
    "        train_generator,\n",
    "        steps_per_epoch=28709 // 64,\n",
    "        epochs=50,\n",
    "        validation_data=validation_generator,\n",
    "        validation_steps=7178 // 64)"
   ]
  },
  {
   "cell_type": "code",
   "execution_count": 9,
   "metadata": {},
   "outputs": [],
   "source": [
    "# save model structure in jason file\n",
    "model_json = emotion_model.to_json()\n",
    "with open(\"emotion_model.json\", \"w\") as json_file:\n",
    "    json_file.write(model_json)\n",
    "\n",
    "# save trained model weight in .h5 file\n",
    "emotion_model.save_weights('emotion_model.h5')"
   ]
  },
  {
   "cell_type": "code",
   "execution_count": 13,
   "metadata": {},
   "outputs": [],
   "source": [
    "# Training Ends here"
   ]
  },
  {
   "cell_type": "code",
   "execution_count": null,
   "metadata": {},
   "outputs": [],
   "source": []
  }
 ],
 "metadata": {
  "kernelspec": {
   "display_name": "Python 3",
   "language": "python",
   "name": "python3"
  },
  "language_info": {
   "codemirror_mode": {
    "name": "ipython",
    "version": 3
   },
   "file_extension": ".py",
   "mimetype": "text/x-python",
   "name": "python",
   "nbconvert_exporter": "python",
   "pygments_lexer": "ipython3",
   "version": "3.11.3"
  },
  "orig_nbformat": 4
 },
 "nbformat": 4,
 "nbformat_minor": 2
}
